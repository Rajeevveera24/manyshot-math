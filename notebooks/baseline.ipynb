{
 "cells": [
  {
   "cell_type": "code",
   "execution_count": 1,
   "metadata": {},
   "outputs": [],
   "source": [
    "import json\n",
    "import os\n",
    "\n",
    "import dspy"
   ]
  },
  {
   "cell_type": "code",
   "execution_count": 2,
   "metadata": {},
   "outputs": [],
   "source": [
    "def load_math_as_examples(path=\"../datasets/MATH\", split=\"train\"):\n",
    "    with open(os.path.join(path, split, \"dataset.json\")) as f:\n",
    "        data = json.load(f)\n",
    "    \n",
    "    examples = []\n",
    "\n",
    "    for question, answer in zip(data[\"question\"], data[\"extracted_answers\"]):\n",
    "        example = dspy.Example(question=question, answer=answer).with_inputs(\"question\")\n",
    "        examples.append(example)\n",
    "\n",
    "    return examples"
   ]
  },
  {
   "cell_type": "code",
   "execution_count": 3,
   "metadata": {},
   "outputs": [],
   "source": [
    "API_KEY = \"EMPTY\"\n",
    "API_BASE = \"http://localhost:8000/v1\"\n",
    "MODEL_NAME = \"meta-llama/Llama-3.1-8B-Instruct\"\n",
    "\n",
    "lm = dspy.LM(\"openai/\"+MODEL_NAME, api_base=API_BASE, api_key=API_KEY, model_type='chat', cache=False)\n",
    "dspy.configure(lm=lm)"
   ]
  },
  {
   "cell_type": "code",
   "execution_count": 4,
   "metadata": {},
   "outputs": [],
   "source": [
    "class MathSignature(dspy.Signature):\n",
    "    \"\"\"Answer the math question.\"\"\"\n",
    "\n",
    "    question = dspy.InputField()\n",
    "    answer = dspy.OutputField(desc=\"The final answer in latex format. Do not include the \\\\boxed{} symbol.\")"
   ]
  },
  {
   "cell_type": "code",
   "execution_count": 5,
   "metadata": {},
   "outputs": [],
   "source": [
    "class BaselineCoT(dspy.Module):\n",
    "\n",
    "    def __init__(self):\n",
    "        self.cot = dspy.ChainOfThought(MathSignature)\n",
    "    \n",
    "    def forward(self, example):\n",
    "        response = self.cot(**example.inputs())\n",
    "        return response"
   ]
  },
  {
   "cell_type": "code",
   "execution_count": 6,
   "metadata": {},
   "outputs": [
    {
     "data": {
      "text/plain": [
       "5000"
      ]
     },
     "execution_count": 6,
     "metadata": {},
     "output_type": "execute_result"
    }
   ],
   "source": [
    "dataset = load_math_as_examples(split=\"test\")\n",
    "len(dataset)"
   ]
  },
  {
   "cell_type": "code",
   "execution_count": 7,
   "metadata": {},
   "outputs": [],
   "source": [
    "baseline = dspy.ChainOfThought(MathSignature)"
   ]
  },
  {
   "cell_type": "code",
   "execution_count": 8,
   "metadata": {},
   "outputs": [],
   "source": [
    "evaluator = dspy.evaluate.Evaluate(devset=dataset, num_threads=24, display_progress=True)"
   ]
  },
  {
   "cell_type": "code",
   "execution_count": null,
   "metadata": {},
   "outputs": [
    {
     "name": "stdout",
     "output_type": "stream",
     "text": [
      "Average Metric: 11.00 / 70 (15.7%):   1%|▏         | 70/5000 [05:58<26:58:29, 19.70s/it]"
     ]
    }
   ],
   "source": [
    "score, outputs = evaluator(baseline, metric=dspy.evaluate.metrics.answer_exact_match, return_outputs=True)\n",
    "score"
   ]
  },
  {
   "cell_type": "code",
   "execution_count": null,
   "metadata": {},
   "outputs": [
    {
     "name": "stdout",
     "output_type": "stream",
     "text": [
      "\n",
      "\n",
      "\n",
      "\n",
      "\u001b[34m[2024-11-20T16:52:01.307106]\u001b[0m\n",
      "\n",
      "\u001b[31mSystem message:\u001b[0m\n",
      "\n",
      "Your input fields are:\n",
      "1. `question` (str)\n",
      "\n",
      "Your output fields are:\n",
      "1. `reasoning` (str)\n",
      "2. `answer` (str): The final answer in latex format. Do not include the $ or \\boxed{} symbols.\n",
      "\n",
      "All interactions will be structured in the following way, with the appropriate values filled in.\n",
      "\n",
      "[[ ## question ## ]]\n",
      "{question}\n",
      "\n",
      "[[ ## reasoning ## ]]\n",
      "{reasoning}\n",
      "\n",
      "[[ ## answer ## ]]\n",
      "{answer}\n",
      "\n",
      "[[ ## completed ## ]]\n",
      "\n",
      "In adhering to this structure, your objective is: \n",
      "        Answer the math question.\n",
      "\n",
      "\n",
      "\u001b[31mUser message:\u001b[0m\n",
      "\n",
      "[[ ## question ## ]]\n",
      "How many subsets of the set of divisors of $72$ contain only composite numbers? For example, $\\{8,9\\}$ and $\\{4,8,12\\}$ are two such sets. Include the empty set in your count.\n",
      "\n",
      "Respond with the corresponding output fields, starting with the field `[[ ## reasoning ## ]]`, then `[[ ## answer ## ]]`, and then ending with the marker for `[[ ## completed ## ]]`.\n",
      "\n",
      "\n",
      "\u001b[31mResponse:\u001b[0m\n",
      "\n",
      "\u001b[32m[[ ## reasoning ## ]]\n",
      "To find the number of subsets of the set of divisors of $72$ that contain only composite numbers, we first need to find all the divisors of $72$. The prime factorization of $72$ is $2^3 \\cdot 3^2$. \n",
      "\n",
      "The divisors of $72$ are all possible combinations of the prime factors $2$ and $3$. We can find them by choosing $0, 1, 2,$ or $3$ factors of $2$ and $0, 1,$ or $2$ factors of $3$. \n",
      "\n",
      "The divisors of $72$ are: $1, 2, 3, 4, 6, 8, 9, 12, 18, 24, 36, 72$. \n",
      "\n",
      "We can see that the only prime divisors of $72$ are $2$ and $3$. Therefore, the only composite divisors are $4, 6, 8, 9, 12, 18, 24, 36, 72$. \n",
      "\n",
      "Now, we need to find the number of subsets of these composite divisors. We can use the formula for the number of subsets of a set with $n$ elements, which is $2^n$. \n",
      "\n",
      "However, we need to exclude the subsets that contain the prime divisors $2$ and $3$. \n",
      "\n",
      "We can find the number of subsets that contain $2$ by considering the set of composite divisors without $2$, which is $\\{4, 6, 8, 9, 12, 18, 24, 36, 72\\}$. \n",
      "\n",
      "The number of subsets of this set is $2^9$. \n",
      "\n",
      "Similarly, we can find the number of subsets that contain $3$ by considering the set of composite divisors without $3$, which is $\\{4, 6, 8, 9, 12, 18, 24, 36, 72\\}$. \n",
      "\n",
      "The number of subsets of this set is also $2^9$. \n",
      "\n",
      "However, we have counted the subsets that contain both $2$ and $3$ twice. We can find the number of subsets that contain both $2$ and $3$ by considering the set of composite divisors without $2$ and $3$, which is $\\{4, 6, 8, 9, 12, 18, 24, 36, 72\\}$. \n",
      "\n",
      "The number of subsets of this set is $2^9$. \n",
      "\n",
      "Therefore, the total number of subsets that contain the prime divisors $2$ and $3$ is $2^9 + 2^9 - 2^9 = 2^{10}$. \n",
      "\n",
      "The number of subsets of the set of composite divisors is $2^{10}$. \n",
      "\n",
      "However, we need to exclude the subsets that contain the prime divisors $2$ and $3$. \n",
      "\n",
      "We can find the number of subsets that contain $2$ or $3$ by using the principle of inclusion-exclusion. \n",
      "\n",
      "The number of subsets that contain $2$ or $3$ is $2^9 + 2^9 - 2^9 = 2^{10}$. \n",
      "\n",
      "However, we have counted the subsets that contain both $2$ and $3$ twice. We can find the number of subsets that contain both $2$ and $3$ by considering the set of composite divisors without $2$ and $3$, which is $\\{4, 6, 8, 9, 12, 18, 24, 36, 72\\}$. \n",
      "\n",
      "The number of subsets of this set is $2^9$. \n",
      "\n",
      "Therefore, the total number of subsets that contain the prime divisors $2$ and $3$ is $2^{10} - 2^9 = 2^9$. \n",
      "\n",
      "The number of subsets of the set of composite divisors is $2^{10} - 2^9 = 2^9$. \n",
      "\n",
      "However, we need to include the empty set in our count. \n",
      "\n",
      "The empty set is a subset of the set of composite divisors, and it contains no prime divisors. \n",
      "\n",
      "Therefore, the total number of subsets of the set of composite divisors that contain only composite numbers is $2^9 + 1 = 512 + 1 = 513$.\n",
      "\n",
      "[[ ## answer ## ]]\n",
      "513\n",
      "\n",
      "[[ ## completed ## ]]\u001b[0m\n",
      "\n",
      "\n",
      "\n",
      "\n",
      "\n"
     ]
    }
   ],
   "source": [
    "dspy.inspect_history()"
   ]
  },
  {
   "cell_type": "code",
   "execution_count": null,
   "metadata": {},
   "outputs": [],
   "source": []
  }
 ],
 "metadata": {
  "kernelspec": {
   "display_name": "manyshot-math",
   "language": "python",
   "name": "python3"
  },
  "language_info": {
   "codemirror_mode": {
    "name": "ipython",
    "version": 3
   },
   "file_extension": ".py",
   "mimetype": "text/x-python",
   "name": "python",
   "nbconvert_exporter": "python",
   "pygments_lexer": "ipython3",
   "version": "3.11.10"
  }
 },
 "nbformat": 4,
 "nbformat_minor": 2
}
