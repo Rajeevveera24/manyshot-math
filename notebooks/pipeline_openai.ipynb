{
 "cells": [
  {
   "cell_type": "code",
   "execution_count": 1,
   "metadata": {},
   "outputs": [
    {
     "name": "stderr",
     "output_type": "stream",
     "text": [
      "/Users/rajeevveeraraghavan/miniconda3/envs/manyshot-math/lib/python3.11/site-packages/tqdm/auto.py:21: TqdmWarning: IProgress not found. Please update jupyter and ipywidgets. See https://ipywidgets.readthedocs.io/en/stable/user_install.html\n",
      "  from .autonotebook import tqdm as notebook_tqdm\n"
     ]
    },
    {
     "data": {
      "text/plain": [
       "True"
      ]
     },
     "execution_count": 1,
     "metadata": {},
     "output_type": "execute_result"
    }
   ],
   "source": [
    "import json\n",
    "import os\n",
    "import dspy\n",
    "\n",
    "from dotenv import load_dotenv\n",
    "\n",
    "load_dotenv(\"../keys.env\")"
   ]
  },
  {
   "cell_type": "code",
   "execution_count": 2,
   "metadata": {},
   "outputs": [],
   "source": [
    "def load_math_as_examples(path=\"../datasets/MATH\", split=\"train\"):\n",
    "    with open(os.path.join(path, split, \"dataset_numeric.json\")) as f:\n",
    "        data = json.load(f)\n",
    "\n",
    "    examples = []\n",
    "\n",
    "    for question, answer in zip(data[\"question\"], data[\"extracted_answers\"]):\n",
    "        example = dspy.Example(question=question, answer=answer).with_inputs(\"question\")\n",
    "        examples.append(example)\n",
    "\n",
    "    return examples"
   ]
  },
  {
   "cell_type": "code",
   "execution_count": 12,
   "metadata": {},
   "outputs": [],
   "source": [
    "HOST = \"localhost\"\n",
    "# HOST = \"babel-15-20\"\n",
    "PORT = 8000\n",
    "# API_KEY = \"EMPTY\"\n",
    "# API_BASE = f\"http://{HOST}:{PORT}/v1\"\n",
    "# MODEL_NAME = \"meta-llama/Llama-3.1-8B-Instruct\"\n",
    "MODEL_NAME = \"gpt-4o-mini\"\n",
    "# MODEL_NAME = \"llm\"\n",
    "\n",
    "\n",
    "OPENAI_API_KEY = os.environ[\"OPENAI_API_KEY\"]\n",
    "ANTHROPIC_API_KEY = os.environ[\"ANTHROPIC_API_KEY\"]\n",
    "\n",
    "# lm = dspy.LM(\n",
    "#     \"openai/\" + MODEL_NAME,\n",
    "#     api_key=OPENAI_API_KEY,\n",
    "#     # model_type=\"chat\",\n",
    "#     cache=False,\n",
    "# )\n",
    "# dspy.configure(lm=lm)\n",
    "\n",
    "\n",
    "# Use Claude 3.5 Sonnet model\n",
    "MODEL_NAME = \"claude-3-sonnet-20240229\"\n",
    "\n",
    "lm = dspy.LM(\n",
    "    \"anthropic/\" + MODEL_NAME,\n",
    "    api_key=ANTHROPIC_API_KEY,\n",
    "    cache=True,\n",
    ")\n",
    "dspy.configure(lm=lm)\n"
   ]
  },
  {
   "cell_type": "code",
   "execution_count": 13,
   "metadata": {},
   "outputs": [
    {
     "data": {
      "text/plain": [
       "3203"
      ]
     },
     "execution_count": 13,
     "metadata": {},
     "output_type": "execute_result"
    }
   ],
   "source": [
    "dataset = load_math_as_examples(split=\"test\")\n",
    "len(dataset)"
   ]
  },
  {
   "cell_type": "code",
   "execution_count": 14,
   "metadata": {},
   "outputs": [],
   "source": [
    "class MathSignature(dspy.Signature):\n",
    "    \"\"\"Answer the math question.\"\"\"\n",
    "\n",
    "    question = dspy.InputField()\n",
    "    answer = dspy.OutputField(\n",
    "        desc=\"The final answer in number format. Ignore any latex that exists in the question, and determine the numerical answer step by step. Reason logically internally and arrive at a final answer. If you get an expression, simplify it and return a numerical answer. If your answer is a fraction, simplify it and return a decimal rounded to 3 places. Your final answer should be a number in the last line.\"\n",
    "    )\n",
    "\n",
    "\n",
    "# class GenerateSignature(dspy.Signature):\n",
    "#     \"\"\"Create similar math questions and answers as the ones in the input\"\"\"\n",
    "\n",
    "#     question = dspy.InputField()\n",
    "#     answer = dspy.InputField()\n",
    "#     generated_examples: list[dict[str, str]] = dspy.OutputField(\n",
    "#         desc=\"1 generated similar question and answer\"\n",
    "#     )\n",
    "\n",
    "\n",
    "# class MathManyShotSignature(dspy.Signature):\n",
    "#     \"\"\"Answer the math question.\"\"\"\n",
    "\n",
    "#     examples: list[dict[str, str]] = dspy.InputField(\n",
    "#         desc=\"List of examples with question and answer\"\n",
    "#     )\n",
    "#     # examples: str = dspy.InputField(desc=\"List of examples with question and answer\")\n",
    "#     question = dspy.InputField()\n",
    "#     answer = dspy.OutputField(\n",
    "#         desc=\"The final answer in latex format. Do not include the \\\\boxed{} symbol.\"\n",
    "#     )"
   ]
  },
  {
   "cell_type": "code",
   "execution_count": 15,
   "metadata": {},
   "outputs": [
    {
     "data": {
      "text/plain": [
       "Example({'question': 'When counting from $3$ to $201$, $53$ is the $51^\\\\mathrm{st}$ number counted. When counting backwards from $201$ to $3$, $53$ is the $n^\\\\mathrm{th}$ number counted. What is $n$?', 'answer': '149'}) (input_keys={'question'})"
      ]
     },
     "execution_count": 15,
     "metadata": {},
     "output_type": "execute_result"
    }
   ],
   "source": [
    "# augment = dspy.Predict(GenerateSignature, n=10)\n",
    "\n",
    "dataset[0]"
   ]
  },
  {
   "cell_type": "code",
   "execution_count": 19,
   "metadata": {},
   "outputs": [
    {
     "name": "stdout",
     "output_type": "stream",
     "text": [
      "Example 1:\n",
      "Predicted: 149.0\n",
      "True: 149.0\n",
      "Match: True\n",
      "\n",
      "Error processing example 1\n",
      "\n",
      "Example 3:\n",
      "Predicted: 512.0\n",
      "True: 512.0\n",
      "Match: True\n",
      "\n",
      "Example 4:\n",
      "Predicted: 4.0\n",
      "True: 6.0\n",
      "Match: False\n",
      "\n",
      "Example 5:\n",
      "Predicted: 27.0\n",
      "True: 23.0\n",
      "Match: False\n",
      "\n",
      "Example 6:\n",
      "Predicted: 560.0\n",
      "True: 560.0\n",
      "Match: True\n",
      "\n",
      "Example 7:\n",
      "Predicted: 772.0\n",
      "True: 772.0\n",
      "Match: True\n",
      "\n",
      "Example 8:\n",
      "Predicted: 1428.0\n",
      "True: 6732.0\n",
      "Match: False\n",
      "\n",
      "Example 9:\n",
      "Predicted: 1728.0\n",
      "True: 200.0\n",
      "Match: False\n",
      "\n",
      "Example 10:\n",
      "Predicted: 66.0\n",
      "True: 28.0\n",
      "Match: False\n",
      "\n",
      "Example 11:\n",
      "Predicted: 720.0\n",
      "True: 540.0\n",
      "Match: False\n",
      "\n",
      "Example 12:\n",
      "Predicted: 165.0\n",
      "True: 165.0\n",
      "Match: True\n",
      "\n",
      "Example 13:\n",
      "Predicted: 0.076\n",
      "True: 0.076\n",
      "Match: True\n",
      "\n",
      "Example 14:\n",
      "Predicted: 4.0\n",
      "True: 97.0\n",
      "Match: False\n",
      "\n",
      "Example 15:\n",
      "Predicted: 1.0\n",
      "True: 1.0\n",
      "Match: True\n",
      "\n",
      "Example 16:\n",
      "Predicted: 28.0\n",
      "True: 21.0\n",
      "Match: False\n",
      "\n",
      "Example 17:\n",
      "Predicted: 4.0\n",
      "True: 28.0\n",
      "Match: False\n",
      "\n",
      "Example 18:\n",
      "Predicted: 105.0\n",
      "True: 105.0\n",
      "Match: True\n",
      "\n",
      "Example 19:\n",
      "Predicted: 8601.0\n",
      "True: 1201.0\n",
      "Match: False\n",
      "\n",
      "Example 20:\n",
      "Predicted: 59.0\n",
      "True: 19.0\n",
      "Match: False\n",
      "\n",
      "Final accuracy: 40.00% (8/20)\n"
     ]
    }
   ],
   "source": [
    "predict = dspy.ChainOfThought(MathSignature)\n",
    "correct = 0\n",
    "total = 0\n",
    "\n",
    "for example in dataset[:20]:\n",
    "    try:\n",
    "        response = predict(**example)\n",
    "        pred_answer = float(response.answer)\n",
    "        true_answer = float(example[\"answer\"])\n",
    "\n",
    "        if pred_answer == true_answer:\n",
    "            correct += 1\n",
    "        total += 1\n",
    "\n",
    "        print(f\"Example {total}:\")\n",
    "        print(f\"Predicted: {pred_answer}\")\n",
    "        print(f\"True: {true_answer}\")\n",
    "        print(f\"Match: {pred_answer == true_answer}\\n\")\n",
    "    except Exception as e:\n",
    "        print(f\"Error processing example {total}\\n\")\n",
    "        total += 1\n",
    "        continue\n",
    "\n",
    "print(f\"Final accuracy: {correct/total:.2%} ({correct}/{total})\")"
   ]
  }
 ],
 "metadata": {
  "kernelspec": {
   "display_name": "manyshot-math",
   "language": "python",
   "name": "python3"
  },
  "language_info": {
   "codemirror_mode": {
    "name": "ipython",
    "version": 3
   },
   "file_extension": ".py",
   "mimetype": "text/x-python",
   "name": "python",
   "nbconvert_exporter": "python",
   "pygments_lexer": "ipython3",
   "version": "3.11.10"
  }
 },
 "nbformat": 4,
 "nbformat_minor": 2
}
