{
 "cells": [
  {
   "cell_type": "code",
   "execution_count": 1,
   "metadata": {},
   "outputs": [],
   "source": [
    "import json\n",
    "import os\n",
    "\n",
    "import dspy"
   ]
  },
  {
   "cell_type": "code",
   "execution_count": 2,
   "metadata": {},
   "outputs": [],
   "source": [
    "def load_math_as_examples(path=\"../datasets/MATH\", split=\"train\"):\n",
    "    with open(os.path.join(path, split, \"dataset.json\")) as f:\n",
    "        data = json.load(f)\n",
    "    \n",
    "    examples = []\n",
    "\n",
    "    for question, answer in zip(data[\"question\"], data[\"extracted_answers\"]):\n",
    "        example = dspy.Example(question=question, answer=answer).with_inputs(\"question\")\n",
    "        examples.append(example)\n",
    "\n",
    "    return examples"
   ]
  },
  {
   "cell_type": "code",
   "execution_count": 3,
   "metadata": {},
   "outputs": [],
   "source": [
    "HOST = \"localhost\"\n",
    "# HOST = \"babel-15-20\"\n",
    "PORT = 8000\n",
    "API_KEY = \"EMPTY\"\n",
    "API_BASE = f\"http://{HOST}:{PORT}/v1\"\n",
    "MODEL_NAME = \"meta-llama/Llama-3.1-8B-Instruct\"\n",
    "# MODEL_NAME = \"llm\"\n",
    "\n",
    "lm = dspy.LM(\"openai/\"+MODEL_NAME, api_base=API_BASE, api_key=API_KEY, model_type='chat', cache=False)\n",
    "dspy.configure(lm=lm)"
   ]
  },
  {
   "cell_type": "code",
   "execution_count": 5,
   "metadata": {},
   "outputs": [
    {
     "data": {
      "text/plain": [
       "5000"
      ]
     },
     "execution_count": 5,
     "metadata": {},
     "output_type": "execute_result"
    }
   ],
   "source": [
    "dataset = load_math_as_examples(split=\"test\")\n",
    "len(dataset)"
   ]
  },
  {
   "cell_type": "code",
   "execution_count": 75,
   "metadata": {},
   "outputs": [],
   "source": [
    "class MathSignature(dspy.Signature):\n",
    "    \"\"\"Answer the math question.\"\"\"\n",
    "\n",
    "    question = dspy.InputField()\n",
    "    answer = dspy.OutputField(desc=\"The final answer in latex format. Do not include the \\\\boxed{} symbol.\")\n",
    "\n",
    "class GenerateSignature(dspy.Signature):\n",
    "    \"\"\"Create similar math questions and answers as the ones in the input\"\"\"\n",
    "\n",
    "    question = dspy.InputField()\n",
    "    answer = dspy.InputField()\n",
    "    generated_examples: list[dict[str, str]] = dspy.OutputField(desc=\"1 generated similar question and answer\")\n",
    "\n",
    "class MathManyShotSignature(dspy.Signature):\n",
    "    \"\"\"Answer the math question.\"\"\"\n",
    "\n",
    "    examples: list[dict[str, str]] = dspy.InputField(desc=\"List of examples with question and answer\")\n",
    "    # examples: str = dspy.InputField(desc=\"List of examples with question and answer\")\n",
    "    question = dspy.InputField()\n",
    "    answer = dspy.OutputField(desc=\"The final answer in latex format. Do not include the \\\\boxed{} symbol.\")"
   ]
  },
  {
   "cell_type": "code",
   "execution_count": 56,
   "metadata": {},
   "outputs": [],
   "source": [
    "augment = dspy.Predict(GenerateSignature, n=10)"
   ]
  },
  {
   "cell_type": "code",
   "execution_count": 57,
   "metadata": {},
   "outputs": [
    {
     "data": {
      "text/plain": [
       "[[{'question': 'A fair coin is flipped 4 times.  What is the probability that we get at most 2 heads?',\n",
       "   'answer': '\\\\frac{17}{32}'}],\n",
       " [{'question': 'We roll a fair 6-sided die 4 times.  What is the probability that we get a 6 in at most 2 of the rolls?',\n",
       "   'answer': '\\\\frac{225}{384}'}],\n",
       " [{'question': 'A fair 6-sided die is rolled 4 times.  What is the probability that we get a 6 in at most 1 of the rolls?',\n",
       "   'answer': '\\\\frac{211}{240}'},\n",
       "  {'question': 'We roll a fair 6-sided die 3 times.  What is the probability that we get a 6 in at most 1 of the rolls?',\n",
       "   'answer': '\\\\frac{125}{216}'},\n",
       "  {'question': 'A fair 6-sided die is rolled 6 times.  What is the probability that we get a 6 in at most 3 of the rolls?',\n",
       "   'answer': '\\\\frac{341875}{2123368}'},\n",
       "  {'question': 'We roll a fair 6-sided die 7 times.  What is the probability that we get a 6 in at most 3 of the rolls?',\n",
       "   'answer': '\\\\frac{269350}{2985984}'}],\n",
       " [{'question': 'A fair 10-sided die is rolled 4 times. What is the probability that we get a 10 in at most 1 of the rolls?',\n",
       "   'answer': '\\\\frac{576}{625}'}],\n",
       " [{'question': 'We flip a fair coin 8 times. What is the probability that we get heads in at most 3 of the flips?',\n",
       "   'answer': '\\\\frac{6435}{65536}'}],\n",
       " [{'question': 'We roll a fair 6-sided die 4 times.  What is the probability that we get a 6 in at most 1 of the rolls?',\n",
       "   'answer': '\\\\frac{369}{1296}'}],\n",
       " [{'question': 'We roll a fair 4-sided die 5 times.  What is the probability that we get a 4 in at most 2 of the rolls?',\n",
       "   'answer': '29/32'}],\n",
       " [{'question': 'A fair coin is flipped 7 times.  What is the probability that we get a heads in at most 2 of the flips?',\n",
       "   'answer': '\\\\frac{448}{64}'}],\n",
       " [{'question': 'A fair 6-sided die is rolled 5 times.  What is the probability that we get a 6 in at most 3 of the rolls?',\n",
       "   'answer': '\\\\frac{579}{648}'}],\n",
       " [{'question': 'We roll a fair 4-sided die 4 times.  What is the probability that we get a 4 in at most 2 of the rolls?',\n",
       "   'answer': '\\\\frac{97}{128}'}]]"
      ]
     },
     "execution_count": 57,
     "metadata": {},
     "output_type": "execute_result"
    }
   ],
   "source": [
    "response = augment(**dataset[0])\n",
    "response.completions.generated_examples"
   ]
  },
  {
   "cell_type": "code",
   "execution_count": 59,
   "metadata": {},
   "outputs": [
    {
     "data": {
      "text/plain": [
       "[{'question': 'A fair coin is flipped 4 times.  What is the probability that we get at most 2 heads?',\n",
       "  'answer': '\\\\frac{17}{32}'},\n",
       " {'question': 'We roll a fair 6-sided die 4 times.  What is the probability that we get a 6 in at most 2 of the rolls?',\n",
       "  'answer': '\\\\frac{225}{384}'},\n",
       " {'question': 'A fair 6-sided die is rolled 4 times.  What is the probability that we get a 6 in at most 1 of the rolls?',\n",
       "  'answer': '\\\\frac{211}{240}'},\n",
       " {'question': 'A fair 10-sided die is rolled 4 times. What is the probability that we get a 10 in at most 1 of the rolls?',\n",
       "  'answer': '\\\\frac{576}{625}'},\n",
       " {'question': 'We flip a fair coin 8 times. What is the probability that we get heads in at most 3 of the flips?',\n",
       "  'answer': '\\\\frac{6435}{65536}'},\n",
       " {'question': 'We roll a fair 6-sided die 4 times.  What is the probability that we get a 6 in at most 1 of the rolls?',\n",
       "  'answer': '\\\\frac{369}{1296}'},\n",
       " {'question': 'We roll a fair 4-sided die 5 times.  What is the probability that we get a 4 in at most 2 of the rolls?',\n",
       "  'answer': '29/32'},\n",
       " {'question': 'A fair coin is flipped 7 times.  What is the probability that we get a heads in at most 2 of the flips?',\n",
       "  'answer': '\\\\frac{448}{64}'},\n",
       " {'question': 'A fair 6-sided die is rolled 5 times.  What is the probability that we get a 6 in at most 3 of the rolls?',\n",
       "  'answer': '\\\\frac{579}{648}'},\n",
       " {'question': 'We roll a fair 4-sided die 4 times.  What is the probability that we get a 4 in at most 2 of the rolls?',\n",
       "  'answer': '\\\\frac{97}{128}'}]"
      ]
     },
     "execution_count": 59,
     "metadata": {},
     "output_type": "execute_result"
    }
   ],
   "source": [
    "generated_examples = [ge[0] for ge in response.completions.generated_examples]\n",
    "generated_examples"
   ]
  },
  {
   "cell_type": "code",
   "execution_count": 71,
   "metadata": {},
   "outputs": [
    {
     "name": "stdout",
     "output_type": "stream",
     "text": [
      "question: 'A fair coin is flipped 4 times.  What is the probability that we get at most 2 heads?'\n",
      "answer: '\\\\frac{17}{32}'\n",
      "\n",
      "question: 'We roll a fair 6-sided die 4 times.  What is the probability that we get a 6 in at most 2 of the rolls?'\n",
      "answer: '\\\\frac{225}{384}'\n",
      "\n",
      "question: 'A fair 6-sided die is rolled 4 times.  What is the probability that we get a 6 in at most 1 of the rolls?'\n",
      "answer: '\\\\frac{211}{240}'\n",
      "\n",
      "question: 'A fair 10-sided die is rolled 4 times. What is the probability that we get a 10 in at most 1 of the rolls?'\n",
      "answer: '\\\\frac{576}{625}'\n",
      "\n",
      "question: 'We flip a fair coin 8 times. What is the probability that we get heads in at most 3 of the flips?'\n",
      "answer: '\\\\frac{6435}{65536}'\n",
      "\n",
      "question: 'We roll a fair 6-sided die 4 times.  What is the probability that we get a 6 in at most 1 of the rolls?'\n",
      "answer: '\\\\frac{369}{1296}'\n",
      "\n",
      "question: 'We roll a fair 4-sided die 5 times.  What is the probability that we get a 4 in at most 2 of the rolls?'\n",
      "answer: '29/32'\n",
      "\n",
      "question: 'A fair coin is flipped 7 times.  What is the probability that we get a heads in at most 2 of the flips?'\n",
      "answer: '\\\\frac{448}{64}'\n",
      "\n",
      "question: 'A fair 6-sided die is rolled 5 times.  What is the probability that we get a 6 in at most 3 of the rolls?'\n",
      "answer: '\\\\frac{579}{648}'\n",
      "\n",
      "question: 'We roll a fair 4-sided die 4 times.  What is the probability that we get a 4 in at most 2 of the rolls?'\n",
      "answer: '\\\\frac{97}{128}'\n"
     ]
    }
   ],
   "source": [
    "# Convert generated examples to a string\n",
    "generated_examples_str = \"\\n\\n\".join([f\"question: {ge['question']!r}\\nanswer: {ge['answer']!r}\" for ge in generated_examples])\n",
    "print(generated_examples_str)"
   ]
  },
  {
   "cell_type": "code",
   "execution_count": 76,
   "metadata": {},
   "outputs": [],
   "source": [
    "predict = dspy.ChainOfThought(MathManyShotSignature)"
   ]
  },
  {
   "cell_type": "code",
   "execution_count": 77,
   "metadata": {},
   "outputs": [
    {
     "data": {
      "text/plain": [
       "Prediction(\n",
       "    reasoning='To solve this problem, we can use the binomial probability formula. The probability of getting a 6 in at most 2 of the rolls is equal to the probability of getting 0 sixes, plus the probability of getting 1 six, plus the probability of getting 2 sixes.\\n\\nThe probability of getting a 6 in a single roll is 1/6, and the probability of not getting a 6 is 5/6. We can use the binomial coefficient to calculate the number of ways to get 0, 1, or 2 sixes in 5 rolls.\\n\\nThe probability of getting 0 sixes is (5/6)^5, since we need to not get a 6 in all 5 rolls.\\n\\nThe probability of getting 1 six is 5C1 * (1/6)^1 * (5/6)^4, since we need to choose 1 roll out of 5 to be a 6, and the other 4 rolls need to not be 6s.\\n\\nThe probability of getting 2 sixes is 5C2 * (1/6)^2 * (5/6)^3, since we need to choose 2 rolls out of 5 to be 6s, and the other 3 rolls need to not be 6s.\\n\\nWe can add these probabilities together to get the final answer.',\n",
       "    answer='\\\\\\\\frac{211}{243}'\n",
       ")"
      ]
     },
     "execution_count": 77,
     "metadata": {},
     "output_type": "execute_result"
    }
   ],
   "source": [
    "response = predict(examples=generated_examples, **dataset[0].inputs())\n",
    "# response = predict(examples=generated_examples_str, **dataset[0].inputs())\n",
    "response"
   ]
  },
  {
   "cell_type": "code",
   "execution_count": 78,
   "metadata": {},
   "outputs": [
    {
     "name": "stdout",
     "output_type": "stream",
     "text": [
      "\n",
      "\n",
      "\n",
      "\n",
      "\u001b[34m[2024-11-21T18:45:59.945643]\u001b[0m\n",
      "\n",
      "\u001b[31mSystem message:\u001b[0m\n",
      "\n",
      "Your input fields are:\n",
      "1. `examples` (list[dict[str, str]]): List of examples with question and answer\n",
      "2. `question` (str)\n",
      "\n",
      "Your output fields are:\n",
      "1. `reasoning` (str)\n",
      "2. `answer` (str): The final answer in latex format. Do not include the \\boxed{} symbol.\n",
      "\n",
      "All interactions will be structured in the following way, with the appropriate values filled in.\n",
      "\n",
      "[[ ## examples ## ]]\n",
      "{examples}\n",
      "\n",
      "[[ ## question ## ]]\n",
      "{question}\n",
      "\n",
      "[[ ## reasoning ## ]]\n",
      "{reasoning}\n",
      "\n",
      "[[ ## answer ## ]]\n",
      "{answer}\n",
      "\n",
      "[[ ## completed ## ]]\n",
      "\n",
      "In adhering to this structure, your objective is: \n",
      "        Answer the math question.\n",
      "\n",
      "\n",
      "\u001b[31mUser message:\u001b[0m\n",
      "\n",
      "[[ ## examples ## ]]\n",
      "[{\"question\": \"A fair coin is flipped 4 times.  What is the probability that we get at most 2 heads?\", \"answer\": \"\\\\frac{17}{32}\"}, {\"question\": \"We roll a fair 6-sided die 4 times.  What is the probability that we get a 6 in at most 2 of the rolls?\", \"answer\": \"\\\\frac{225}{384}\"}, {\"question\": \"A fair 6-sided die is rolled 4 times.  What is the probability that we get a 6 in at most 1 of the rolls?\", \"answer\": \"\\\\frac{211}{240}\"}, {\"question\": \"A fair 10-sided die is rolled 4 times. What is the probability that we get a 10 in at most 1 of the rolls?\", \"answer\": \"\\\\frac{576}{625}\"}, {\"question\": \"We flip a fair coin 8 times. What is the probability that we get heads in at most 3 of the flips?\", \"answer\": \"\\\\frac{6435}{65536}\"}, {\"question\": \"We roll a fair 6-sided die 4 times.  What is the probability that we get a 6 in at most 1 of the rolls?\", \"answer\": \"\\\\frac{369}{1296}\"}, {\"question\": \"We roll a fair 4-sided die 5 times.  What is the probability that we get a 4 in at most 2 of the rolls?\", \"answer\": \"29/32\"}, {\"question\": \"A fair coin is flipped 7 times.  What is the probability that we get a heads in at most 2 of the flips?\", \"answer\": \"\\\\frac{448}{64}\"}, {\"question\": \"A fair 6-sided die is rolled 5 times.  What is the probability that we get a 6 in at most 3 of the rolls?\", \"answer\": \"\\\\frac{579}{648}\"}, {\"question\": \"We roll a fair 4-sided die 4 times.  What is the probability that we get a 4 in at most 2 of the rolls?\", \"answer\": \"\\\\frac{97}{128}\"}]\n",
      "\n",
      "[[ ## question ## ]]\n",
      "We roll a fair 6-sided die 5 times.  What is the probability that we get a 6 in at most 2 of the rolls?\n",
      "\n",
      "Respond with the corresponding output fields, starting with the field `[[ ## reasoning ## ]]`, then `[[ ## answer ## ]]`, and then ending with the marker for `[[ ## completed ## ]]`.\n",
      "\n",
      "\n",
      "\u001b[31mResponse:\u001b[0m\n",
      "\n",
      "\u001b[32m[[ ## reasoning ## ]]\n",
      "To solve this problem, we can use the binomial probability formula. The probability of getting a 6 in at most 2 of the rolls is equal to the probability of getting 0 sixes, plus the probability of getting 1 six, plus the probability of getting 2 sixes.\n",
      "\n",
      "The probability of getting a 6 in a single roll is 1/6, and the probability of not getting a 6 is 5/6. We can use the binomial coefficient to calculate the number of ways to get 0, 1, or 2 sixes in 5 rolls.\n",
      "\n",
      "The probability of getting 0 sixes is (5/6)^5, since we need to not get a 6 in all 5 rolls.\n",
      "\n",
      "The probability of getting 1 six is 5C1 * (1/6)^1 * (5/6)^4, since we need to choose 1 roll out of 5 to be a 6, and the other 4 rolls need to not be 6s.\n",
      "\n",
      "The probability of getting 2 sixes is 5C2 * (1/6)^2 * (5/6)^3, since we need to choose 2 rolls out of 5 to be 6s, and the other 3 rolls need to not be 6s.\n",
      "\n",
      "We can add these probabilities together to get the final answer.\n",
      "\n",
      "[[ ## answer ## ]]\n",
      "\\\\frac{211}{243}\n",
      "\n",
      "[[ ## completed ## ]]\u001b[0m\n",
      "\n",
      "\n",
      "\n",
      "\n",
      "\n"
     ]
    }
   ],
   "source": [
    "dspy.inspect_history()"
   ]
  },
  {
   "cell_type": "code",
   "execution_count": null,
   "metadata": {},
   "outputs": [],
   "source": []
  }
 ],
 "metadata": {
  "kernelspec": {
   "display_name": "manyshot-math",
   "language": "python",
   "name": "python3"
  },
  "language_info": {
   "codemirror_mode": {
    "name": "ipython",
    "version": 3
   },
   "file_extension": ".py",
   "mimetype": "text/x-python",
   "name": "python",
   "nbconvert_exporter": "python",
   "pygments_lexer": "ipython3",
   "version": "3.11.10"
  }
 },
 "nbformat": 4,
 "nbformat_minor": 2
}
