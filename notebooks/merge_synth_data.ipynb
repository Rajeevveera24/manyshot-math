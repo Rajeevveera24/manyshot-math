{
 "cells": [
  {
   "cell_type": "code",
   "execution_count": 2,
   "metadata": {},
   "outputs": [],
   "source": [
    "import json"
   ]
  },
  {
   "cell_type": "code",
   "execution_count": 3,
   "metadata": {},
   "outputs": [],
   "source": [
    "with open('../src/synth_data/cot_synth_data_70b_int4_5.json', 'r') as f:\n",
    "    data5 = json.load(f)\n",
    "with open('../src/synth_data/cot_synth_data_70b_int4_10.json', 'r') as f:\n",
    "    data10 = json.load(f)\n",
    "with open('../src/synth_data/cot_synth_data_70b_int4_50.json', 'r') as f:\n",
    "    data50 = json.load(f)\n",
    "with open('../src/synth_data/cot_synth_data_70b_int4_100.json', 'r') as f:\n",
    "    data100 = json.load(f)"
   ]
  },
  {
   "cell_type": "code",
   "execution_count": 6,
   "metadata": {},
   "outputs": [
    {
     "data": {
      "text/plain": [
       "25"
      ]
     },
     "execution_count": 6,
     "metadata": {},
     "output_type": "execute_result"
    }
   ],
   "source": [
    "data25 = [d[:25] for d in data50]\n",
    "len(data25[0])"
   ]
  },
  {
   "cell_type": "code",
   "execution_count": 7,
   "metadata": {},
   "outputs": [
    {
     "data": {
      "text/plain": [
       "22"
      ]
     },
     "execution_count": 7,
     "metadata": {},
     "output_type": "execute_result"
    }
   ],
   "source": [
    "data75 = [d[:75] for d in data100]\n",
    "len(data75[0])"
   ]
  },
  {
   "cell_type": "code",
   "execution_count": 12,
   "metadata": {},
   "outputs": [
    {
     "data": {
      "text/plain": [
       "44"
      ]
     },
     "execution_count": 12,
     "metadata": {},
     "output_type": "execute_result"
    }
   ],
   "source": [
    "data150 = [d1 + d2 for d1, d2 in zip(data50, data100)]\n",
    "data125 = [d[:125] for d in data150]\n",
    "len(data125[1])"
   ]
  },
  {
   "cell_type": "code",
   "execution_count": 14,
   "metadata": {},
   "outputs": [],
   "source": [
    "with open('../src/synth_data/cot_synth_data_70b_int4_25.json', 'w') as f:\n",
    "    json.dump(data25, f)\n",
    "with open('../src/synth_data/cot_synth_data_70b_int4_75.json', 'w') as f:\n",
    "    json.dump(data75, f)\n",
    "with open('../src/synth_data/cot_synth_data_70b_int4_125.json', 'w') as f:\n",
    "    json.dump(data125, f)"
   ]
  },
  {
   "cell_type": "code",
   "execution_count": null,
   "metadata": {},
   "outputs": [],
   "source": []
  }
 ],
 "metadata": {
  "kernelspec": {
   "display_name": "manyshot-math",
   "language": "python",
   "name": "python3"
  },
  "language_info": {
   "codemirror_mode": {
    "name": "ipython",
    "version": 3
   },
   "file_extension": ".py",
   "mimetype": "text/x-python",
   "name": "python",
   "nbconvert_exporter": "python",
   "pygments_lexer": "ipython3",
   "version": "3.11.10"
  }
 },
 "nbformat": 4,
 "nbformat_minor": 2
}
