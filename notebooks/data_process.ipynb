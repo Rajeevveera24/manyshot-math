{
 "cells": [
  {
   "cell_type": "code",
   "execution_count": 37,
   "metadata": {},
   "outputs": [],
   "source": [
    "import pyarrow as pa\n",
    "import json\n",
    "from datasets import Dataset\n",
    "import os"
   ]
  },
  {
   "cell_type": "code",
   "execution_count": 2,
   "metadata": {},
   "outputs": [],
   "source": [
    "def process_and_save_gsm8k_dataset(input_path, output_path):\n",
    "    dataset = Dataset.from_file(input_path)\n",
    "    print(dataset if \"train\" in input_path else len(dataset))\n",
    "    dataset_dict = dataset.to_dict()\n",
    "\n",
    "    dataset_dict[\"extracted_answers\"] = [\n",
    "        float(answer.split(\"####\")[-1].replace(\",\", \"\"))\n",
    "        for answer in dataset_dict[\"answer\"]\n",
    "    ]\n",
    "\n",
    "    dataset_dict[\"id\"] = list(range(len(dataset_dict[\"answer\"])))\n",
    "\n",
    "    with open(output_path, \"w\") as json_file:\n",
    "        json.dump(dataset_dict, json_file)"
   ]
  },
  {
   "cell_type": "code",
   "execution_count": 3,
   "metadata": {},
   "outputs": [
    {
     "name": "stdout",
     "output_type": "stream",
     "text": [
      "Dataset({\n",
      "    features: ['question', 'answer'],\n",
      "    num_rows: 7473\n",
      "})\n",
      "1319\n"
     ]
    }
   ],
   "source": [
    "process_and_save_gsm8k_dataset(\n",
    "    \"../datasets/GSM8K/train/data-00000-of-00001.arrow\",\n",
    "    \"../datasets/GSM8K/train/dataset.json\",\n",
    ")\n",
    "process_and_save_gsm8k_dataset(\n",
    "    \"../datasets/GSM8K/test/data-00000-of-00001.arrow\",\n",
    "    \"../datasets/GSM8K/test/dataset.json\",\n",
    ")"
   ]
  },
  {
   "cell_type": "code",
   "execution_count": 4,
   "metadata": {},
   "outputs": [],
   "source": [
    "def process_and_save_math_dataset(\n",
    "    load_path=\"../datasets/MATH/train\",\n",
    "    output_path=\"../datasets/MATH/train/dataset.json\",\n",
    "):\n",
    "    math_dataset_dict = {\n",
    "        \"question\": [],\n",
    "        \"level\": [],\n",
    "        \"type\": [],\n",
    "        \"answer\": [],\n",
    "        \"extracted_answers\": [],\n",
    "    }\n",
    "\n",
    "    directories = [\n",
    "        d for d in os.listdir(load_path) if os.path.isdir(os.path.join(load_path, d))\n",
    "    ]\n",
    "\n",
    "    for directory in directories:\n",
    "        dir_path = os.path.join(load_path, directory)\n",
    "        json_files = [file for file in os.listdir(dir_path) if file.endswith(\".json\")]\n",
    "        for json_file in json_files:\n",
    "            with open(os.path.join(dir_path, json_file), \"r\") as f:\n",
    "                contents = json.load(f)\n",
    "                math_dataset_dict[\"question\"].append(contents[\"problem\"])\n",
    "                math_dataset_dict[\"answer\"].append(contents[\"solution\"])\n",
    "                try:\n",
    "                    math_dataset_dict[\"level\"].append(int(contents[\"level\"][-1]))\n",
    "                except Exception as e:\n",
    "                    math_dataset_dict[\"level\"].append(-1)\n",
    "                math_dataset_dict[\"type\"].append(contents[\"type\"].lower())\n",
    "\n",
    "    math_dataset_dict[\"extracted_answers\"] = [\n",
    "        (\n",
    "            lambda s: s[\n",
    "                s.find(\"\\\\boxed{\") + len(\"\\\\boxed{\") : next(\n",
    "                    i\n",
    "                    for i, c in enumerate(\n",
    "                        s[s.find(\"\\\\boxed{\") + len(\"\\\\boxed{\") :],\n",
    "                        start=s.find(\"\\\\boxed{\") + len(\"\\\\boxed{\"),\n",
    "                    )\n",
    "                    if c == \"}\"\n",
    "                    and s[s.find(\"\\\\boxed{\") + len(\"\\\\boxed{\") : i].count(\"{\")\n",
    "                    == s[s.find(\"\\\\boxed{\") + len(\"\\\\boxed{\") : i].count(\"}\")\n",
    "                )\n",
    "            ]\n",
    "            if \"\\\\boxed{\" in s\n",
    "            else \"\"\n",
    "        )(answer)\n",
    "        for answer in math_dataset_dict[\"answer\"]\n",
    "    ]\n",
    "\n",
    "    # Add boolean flag for whether extracted answer can be converted to float\n",
    "    math_dataset_dict[\"is_answer_numeric\"] = []\n",
    "    for answer in math_dataset_dict[\"extracted_answers\"]:\n",
    "        try:\n",
    "            # Try to convert answer to float, handling common math notation\n",
    "            cleaned = (\n",
    "                answer.replace(\"\\\\\", \"\")\n",
    "                .replace(\"frac{\", \"\")\n",
    "                .replace(\"dfrac{\", \"\")\n",
    "                .replace(\"}\", \"\")\n",
    "                .replace(\" \", \"\")\n",
    "            )\n",
    "            if cleaned:\n",
    "                float(eval(cleaned))  # Using eval to handle fractions like \"1/2\"\n",
    "            math_dataset_dict[\"is_answer_numeric\"].append(True)\n",
    "        except Exception as e:\n",
    "            math_dataset_dict[\"is_answer_numeric\"].append(False)\n",
    "\n",
    "    # Verify all lists in the dictionary have the same length\n",
    "    expected_length = len(math_dataset_dict[\"question\"])\n",
    "    for key, value in math_dataset_dict.items():\n",
    "        if len(value) != expected_length:\n",
    "            raise ValueError(\n",
    "                f\"Length mismatch for {key}: expected {expected_length}, got {len(value)}\"\n",
    "            )\n",
    "\n",
    "    # Add sequential IDs to the dataset\n",
    "    math_dataset_dict[\"id\"] = list(range(len(math_dataset_dict[\"question\"])))\n",
    "\n",
    "    with open(output_path, \"w\") as json_file:\n",
    "        json.dump(math_dataset_dict, json_file)\n"
   ]
  },
  {
   "cell_type": "code",
   "execution_count": 5,
   "metadata": {},
   "outputs": [
    {
     "name": "stderr",
     "output_type": "stream",
     "text": [
      "<string>:1: SyntaxWarning: 'int' object is not callable; perhaps you missed a comma?\n",
      "<string>:1: SyntaxWarning: invalid decimal literal\n",
      "<string>:1: SyntaxWarning: 'int' object is not callable; perhaps you missed a comma?\n",
      "<string>:1: SyntaxWarning: 'int' object is not callable; perhaps you missed a comma?\n",
      "<string>:1: SyntaxWarning: 'int' object is not callable; perhaps you missed a comma?\n",
      "<string>:1: SyntaxWarning: 'int' object is not callable; perhaps you missed a comma?\n",
      "<string>:1: SyntaxWarning: 'int' object is not callable; perhaps you missed a comma?\n",
      "<string>:1: SyntaxWarning: 'int' object is not callable; perhaps you missed a comma?\n"
     ]
    }
   ],
   "source": [
    "process_and_save_math_dataset()\n",
    "process_and_save_math_dataset(\n",
    "    \"../datasets/MATH/test\", \"../datasets/MATH/test/dataset.json\"\n",
    ")"
   ]
  },
  {
   "cell_type": "code",
   "execution_count": 41,
   "metadata": {},
   "outputs": [],
   "source": [
    "# Filter out non-numeric questions from MATH dataset\n",
    "def filter_and_store_numeric_questions(dataset_path, output_path):\n",
    "    with open(dataset_path, \"r\") as f:\n",
    "        dataset = json.load(f)\n",
    "\n",
    "    # Keep only entries where is_answer_numeric is True\n",
    "    numeric_indices = [\n",
    "        i for i, is_numeric in enumerate(dataset[\"is_answer_numeric\"]) if is_numeric\n",
    "    ]\n",
    "\n",
    "    filtered_dataset = {\n",
    "        key: [value[i] for i in numeric_indices] for key, value in dataset.items()\n",
    "    }\n",
    "\n",
    "    # Save filtered dataset\n",
    "    with open(output_path, \"w\") as f:\n",
    "        json.dump(filtered_dataset, f)\n",
    "\n",
    "    print(len(filtered_dataset[\"question\"]))\n",
    "\n",
    "\n",
    "# Filter test dataset only\n",
    "filter_and_store_numeric_questions(\n",
    "    \"../datasets/MATH/test/dataset.json\", \"../datasets/MATH/test/dataset_numeric.json\"\n",
    ")\n",
    "filter_and_store_numeric_questions(\n",
    "    \"../datasets/MATH/train/dataset.json\", \"../datasets/MATH/train/dataset_numeric.json\"\n",
    ")\n"
   ]
  },
  {
   "cell_type": "code",
   "execution_count": 7,
   "metadata": {},
   "outputs": [
    {
     "name": "stdout",
     "output_type": "stream",
     "text": [
      "Number of numeric questions in train dataset: 4877\n",
      "Number of numeric questions in test dataset: 3203\n",
      "Number of  questions in train dataset: 7500\n",
      "Number of questions in test dataset: 5000\n"
     ]
    }
   ],
   "source": [
    "with open(\"../datasets/MATH/train/dataset_numeric.json\", \"r\") as f:\n",
    "    dataset = json.load(f)\n",
    "print(f\"Number of numeric questions in train dataset: {len(dataset['question'])}\")\n",
    "\n",
    "with open(\"../datasets/MATH/test/dataset_numeric.json\", \"r\") as f:\n",
    "    dataset = json.load(f)\n",
    "print(f\"Number of numeric questions in test dataset: {len(dataset['question'])}\")\n",
    "\n",
    "\n",
    "with open(\"../datasets/MATH/train/dataset.json\", \"r\") as f:\n",
    "    dataset = json.load(f)\n",
    "print(f\"Number of  questions in train dataset: {len(dataset['question'])}\")\n",
    "\n",
    "with open(\"../datasets/MATH/test/dataset.json\", \"r\") as f:\n",
    "    dataset = json.load(f)\n",
    "print(f\"Number of questions in test dataset: {len(dataset['question'])}\")"
   ]
  },
  {
   "cell_type": "markdown",
   "metadata": {},
   "source": [
    "## Download MATH500 from HuggingFace and store it locally in the same format as MATH and GSM8K"
   ]
  },
  {
   "cell_type": "code",
   "execution_count": 38,
   "metadata": {},
   "outputs": [
    {
     "data": {
      "text/plain": [
       "dict_keys(['problem', 'solution', 'answer', 'subject', 'level', 'unique_id'])"
      ]
     },
     "execution_count": 38,
     "metadata": {},
     "output_type": "execute_result"
    }
   ],
   "source": [
    "from datasets import load_dataset\n",
    "math500_ds = load_dataset(\"qq8933/MATH500\")\n",
    "math500_ds_dict = {split: math500_ds[split].to_dict() for split in math500_ds.keys()}\n",
    "math500_ds_dict = math500_ds_dict['test']\n",
    "math500_ds_dict.keys()"
   ]
  },
  {
   "cell_type": "code",
   "execution_count": 39,
   "metadata": {},
   "outputs": [],
   "source": [
    "def process_and_save_math500_dataset(\n",
    "    input_dataset_dict=None, \n",
    "    output_path=\"../datasets/MATH500/dataset.json\", # There is no train for MATH500\n",
    "):\n",
    "    if not input_dataset_dict:\n",
    "        print(\"Error: No input dataset dictionary provided\")\n",
    "        return\n",
    "    \n",
    "    math500_dataset_dict = {\n",
    "        \"question\": [],\n",
    "        \"level\": [],\n",
    "        \"type\": [],\n",
    "        \"answer\": [],\n",
    "        \"extracted_answers\": [],\n",
    "        \"id\": []\n",
    "    }\n",
    "    \n",
    "    math500_dataset_dict[\"question\"] = input_dataset_dict[\"problem\"]\n",
    "    math500_dataset_dict[\"id\"] = input_dataset_dict['unique_id']\n",
    "    math500_dataset_dict[\"type\"] = [x.lower() for x in input_dataset_dict['subject']]\n",
    "    math500_dataset_dict[\"answer\"] = input_dataset_dict[\"solution\"]\n",
    "    math500_dataset_dict[\"level\"] = input_dataset_dict[\"level\"]\n",
    "    math500_dataset_dict[\"extracted_answers\"] = input_dataset_dict[\"answer\"]\n",
    "\n",
    "    math500_dataset_dict[\"is_answer_numeric\"] = []\n",
    "    for answer in math500_dataset_dict[\"extracted_answers\"]:\n",
    "        try:\n",
    "            # Try to convert answer to float, handling common math notation\n",
    "            cleaned = (\n",
    "                answer.replace(\"\\\\\", \"\")\n",
    "                .replace(\"frac{\", \"\")\n",
    "                .replace(\"dfrac{\", \"\")\n",
    "                .replace(\"}\", \"\")\n",
    "                .replace(\" \", \"\")\n",
    "            )\n",
    "            if cleaned:\n",
    "                float(eval(cleaned))  # Using eval to handle fractions like \"1/2\"\n",
    "            math500_dataset_dict[\"is_answer_numeric\"].append(True)\n",
    "        except Exception as e:\n",
    "            math500_dataset_dict[\"is_answer_numeric\"].append(False)\n",
    "\n",
    "    # Verify all lists in the dictionary have the same length\n",
    "    expected_length = len(math500_dataset_dict[\"question\"])\n",
    "    for key, value in math500_dataset_dict.items():\n",
    "        if len(value) != expected_length:\n",
    "            raise ValueError(\n",
    "                f\"Length mismatch for {key}: expected {expected_length}, got {len(value)}\"\n",
    "            )\n",
    "            \n",
    "    with open(output_path, \"w\") as json_file:\n",
    "        json.dump(math500_dataset_dict, json_file)\n"
   ]
  },
  {
   "cell_type": "code",
   "execution_count": 40,
   "metadata": {},
   "outputs": [],
   "source": [
    "process_and_save_math500_dataset(math500_ds_dict)"
   ]
  },
  {
   "cell_type": "code",
   "execution_count": 42,
   "metadata": {},
   "outputs": [
    {
     "name": "stdout",
     "output_type": "stream",
     "text": [
      "323\n"
     ]
    }
   ],
   "source": [
    "filter_and_store_numeric_questions(\n",
    "    \"../datasets/MATH500/dataset.json\", \"../datasets/MATH500/dataset_numeric.json\"\n",
    ")"
   ]
  }
 ],
 "metadata": {
  "kernelspec": {
   "display_name": "manyshot-math",
   "language": "python",
   "name": "python3"
  },
  "language_info": {
   "codemirror_mode": {
    "name": "ipython",
    "version": 3
   },
   "file_extension": ".py",
   "mimetype": "text/x-python",
   "name": "python",
   "nbconvert_exporter": "python",
   "pygments_lexer": "ipython3",
   "version": "3.11.10"
  }
 },
 "nbformat": 4,
 "nbformat_minor": 2
}
