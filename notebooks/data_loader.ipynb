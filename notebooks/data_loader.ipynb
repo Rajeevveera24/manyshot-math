{
 "cells": [
  {
   "cell_type": "code",
   "execution_count": 50,
   "metadata": {},
   "outputs": [],
   "source": [
    "import pyarrow as pa\n",
    "import json\n",
    "from datasets import Dataset\n",
    "import os"
   ]
  },
  {
   "cell_type": "code",
   "execution_count": 51,
   "metadata": {},
   "outputs": [],
   "source": [
    "def process_and_save_gsm8k_dataset(input_path, output_path):\n",
    "    dataset = Dataset.from_file(input_path)\n",
    "    print(dataset if \"train\" in input_path else len(dataset))\n",
    "    dataset_dict = dataset.to_dict()\n",
    "\n",
    "    dataset_dict[\"extracted_answers\"] = [\n",
    "        float(answer.split(\"####\")[-1].replace(\",\", \"\"))\n",
    "        for answer in dataset_dict[\"answer\"]\n",
    "    ]\n",
    "\n",
    "    with open(output_path, \"w\") as json_file:\n",
    "        json.dump(dataset_dict, json_file)"
   ]
  },
  {
   "cell_type": "code",
   "execution_count": 52,
   "metadata": {},
   "outputs": [
    {
     "name": "stdout",
     "output_type": "stream",
     "text": [
      "Dataset({\n",
      "    features: ['question', 'answer'],\n",
      "    num_rows: 7473\n",
      "})\n",
      "1319\n"
     ]
    }
   ],
   "source": [
    "process_and_save_gsm8k_dataset(\n",
    "    \"../datasets/GSM8K/train/data-00000-of-00001.arrow\",\n",
    "    \"../datasets/GSM8K/train/dataset.json\",\n",
    ")\n",
    "process_and_save_gsm8k_dataset(\n",
    "    \"../datasets/GSM8K/test/data-00000-of-00001.arrow\",\n",
    "    \"../datasets/GSM8K/test/dataset.json\",\n",
    ")"
   ]
  },
  {
   "cell_type": "code",
   "execution_count": 81,
   "metadata": {},
   "outputs": [],
   "source": [
    "def process_and_save_math_dataset(\n",
    "    load_path=\"../datasets/MATH/train\",\n",
    "    output_path=\"../datasets/MATH/train/dataset.json\",\n",
    "):\n",
    "    math_dataset_dict = {\n",
    "        \"question\": [],\n",
    "        \"level\": [],\n",
    "        \"type\": [],\n",
    "        \"answer\": [],\n",
    "        \"extracted_answers\": [],\n",
    "    }\n",
    "\n",
    "    directories = [\n",
    "        d for d in os.listdir(load_path) if os.path.isdir(os.path.join(load_path, d))\n",
    "    ]\n",
    "\n",
    "    for directory in directories:\n",
    "        dir_path = os.path.join(load_path, directory)\n",
    "        json_files = [file for file in os.listdir(dir_path) if file.endswith(\".json\")]\n",
    "        for json_file in json_files:\n",
    "            with open(os.path.join(dir_path, json_file), \"r\") as f:\n",
    "                contents = json.load(f)\n",
    "                math_dataset_dict[\"question\"].append(contents[\"problem\"])\n",
    "                math_dataset_dict[\"answer\"].append(contents[\"solution\"])\n",
    "                math_dataset_dict[\"level\"].append(contents[\"level\"])\n",
    "                math_dataset_dict[\"type\"].append(contents[\"type\"])\n",
    "\n",
    "    math_dataset_dict[\"extracted_answers\"] = [\n",
    "        (\n",
    "            lambda s: s[\n",
    "                s.find(\"\\\\boxed{\") + len(\"\\\\boxed{\") : next(\n",
    "                    i\n",
    "                    for i, c in enumerate(\n",
    "                        s[s.find(\"\\\\boxed{\") + len(\"\\\\boxed{\") :],\n",
    "                        start=s.find(\"\\\\boxed{\") + len(\"\\\\boxed{\"),\n",
    "                    )\n",
    "                    if c == \"}\"\n",
    "                    and s[s.find(\"\\\\boxed{\") + len(\"\\\\boxed{\") : i].count(\"{\")\n",
    "                    == s[s.find(\"\\\\boxed{\") + len(\"\\\\boxed{\") : i].count(\"}\")\n",
    "                )\n",
    "            ]\n",
    "            if \"\\\\boxed{\" in s\n",
    "            else \"\"\n",
    "        )(answer)\n",
    "        for answer in math_dataset_dict[\"answer\"]\n",
    "    ]\n",
    "\n",
    "    # Add boolean flag for whether extracted answer can be converted to float\n",
    "    math_dataset_dict[\"is_answer_numeric\"] = []\n",
    "    for answer in math_dataset_dict[\"extracted_answers\"]:\n",
    "        try:\n",
    "            # Try to convert answer to float, handling common math notation\n",
    "            cleaned = (\n",
    "                answer.replace(\"\\\\\", \"\")\n",
    "                .replace(\"frac{\", \"\")\n",
    "                .replace(\"dfrac{\", \"\")\n",
    "                .replace(\"}\", \"\")\n",
    "                .replace(\" \", \"\")\n",
    "            )\n",
    "            if cleaned:\n",
    "                float(eval(cleaned))  # Using eval to handle fractions like \"1/2\"\n",
    "            math_dataset_dict[\"is_answer_numeric\"].append(True)\n",
    "        except Exception as e:\n",
    "            math_dataset_dict[\"is_answer_numeric\"].append(False)\n",
    "\n",
    "    # Verify all lists in the dictionary have the same length\n",
    "    expected_length = len(math_dataset_dict[\"question\"])\n",
    "    for key, value in math_dataset_dict.items():\n",
    "        if len(value) != expected_length:\n",
    "            raise ValueError(\n",
    "                f\"Length mismatch for {key}: expected {expected_length}, got {len(value)}\"\n",
    "            )\n",
    "    with open(output_path, \"w\") as json_file:\n",
    "        json.dump(math_dataset_dict, json_file)\n"
   ]
  },
  {
   "cell_type": "code",
   "execution_count": 82,
   "metadata": {},
   "outputs": [
    {
     "name": "stderr",
     "output_type": "stream",
     "text": [
      "<string>:1: SyntaxWarning: 'int' object is not callable; perhaps you missed a comma?\n",
      "<string>:1: SyntaxWarning: invalid decimal literal\n",
      "<string>:1: SyntaxWarning: 'int' object is not callable; perhaps you missed a comma?\n",
      "<string>:1: SyntaxWarning: 'int' object is not callable; perhaps you missed a comma?\n",
      "<string>:1: SyntaxWarning: 'int' object is not callable; perhaps you missed a comma?\n",
      "<string>:1: SyntaxWarning: 'int' object is not callable; perhaps you missed a comma?\n",
      "<string>:1: SyntaxWarning: 'int' object is not callable; perhaps you missed a comma?\n",
      "<string>:1: SyntaxWarning: 'int' object is not callable; perhaps you missed a comma?\n"
     ]
    }
   ],
   "source": [
    "process_and_save_math_dataset()\n",
    "process_and_save_math_dataset(\n",
    "    \"../datasets/MATH/test\", \"../datasets/MATH/test/dataset.json\"\n",
    ")"
   ]
  }
 ],
 "metadata": {
  "kernelspec": {
   "display_name": "manyshot-math",
   "language": "python",
   "name": "python3"
  },
  "language_info": {
   "codemirror_mode": {
    "name": "ipython",
    "version": 3
   },
   "file_extension": ".py",
   "mimetype": "text/x-python",
   "name": "python",
   "nbconvert_exporter": "python",
   "pygments_lexer": "ipython3",
   "version": "3.11.10"
  }
 },
 "nbformat": 4,
 "nbformat_minor": 2
}
