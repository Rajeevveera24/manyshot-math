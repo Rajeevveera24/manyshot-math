{
 "cells": [
  {
   "cell_type": "code",
   "execution_count": 50,
   "metadata": {},
   "outputs": [],
   "source": [
    "import pyarrow as pa\n",
    "import json\n",
    "from datasets import Dataset"
   ]
  },
  {
   "cell_type": "code",
   "execution_count": 51,
   "metadata": {},
   "outputs": [],
   "source": [
    "def process_and_save_gsm8k_dataset(input_path, output_path):\n",
    "    dataset = Dataset.from_file(input_path)\n",
    "    print(dataset if \"train\" in input_path else len(dataset))\n",
    "    dataset_dict = dataset.to_dict()\n",
    "\n",
    "    dataset_dict[\"extracted_answers\"] = [\n",
    "        float(answer.split(\"####\")[-1].replace(\",\", \"\"))\n",
    "        for answer in dataset_dict[\"answer\"]\n",
    "    ]\n",
    "\n",
    "    with open(output_path, \"w\") as json_file:\n",
    "        json.dump(dataset_dict, json_file)"
   ]
  },
  {
   "cell_type": "code",
   "execution_count": 52,
   "metadata": {},
   "outputs": [
    {
     "name": "stdout",
     "output_type": "stream",
     "text": [
      "Dataset({\n",
      "    features: ['question', 'answer'],\n",
      "    num_rows: 7473\n",
      "})\n",
      "1319\n"
     ]
    }
   ],
   "source": [
    "process_and_save_gsm8k_dataset(\n",
    "    \"../datasets/GSM8K/train/data-00000-of-00001.arrow\",\n",
    "    \"../datasets/GSM8K/train/dataset.json\",\n",
    ")\n",
    "process_and_save_gsm8k_dataset(\n",
    "    \"../datasets/GSM8K/test/data-00000-of-00001.arrow\",\n",
    "    \"../datasets/GSM8K/test/dataset.json\",\n",
    ")"
   ]
  }
 ],
 "metadata": {
  "kernelspec": {
   "display_name": "manyshot-math",
   "language": "python",
   "name": "python3"
  },
  "language_info": {
   "codemirror_mode": {
    "name": "ipython",
    "version": 3
   },
   "file_extension": ".py",
   "mimetype": "text/x-python",
   "name": "python",
   "nbconvert_exporter": "python",
   "pygments_lexer": "ipython3",
   "version": "3.11.10"
  }
 },
 "nbformat": 4,
 "nbformat_minor": 2
}
